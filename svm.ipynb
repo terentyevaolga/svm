{
  "nbformat": 4,
  "nbformat_minor": 0,
  "metadata": {
    "colab": {
      "provenance": [],
      "authorship_tag": "ABX9TyMFd3/1clIOJwESx6eRYDLf",
      "include_colab_link": true
    },
    "kernelspec": {
      "name": "python3",
      "display_name": "Python 3"
    },
    "language_info": {
      "name": "python"
    }
  },
  "cells": [
    {
      "cell_type": "markdown",
      "metadata": {
        "id": "view-in-github",
        "colab_type": "text"
      },
      "source": [
        "<a href=\"https://colab.research.google.com/github/terentyevaolga/svm/blob/main/svm.ipynb\" target=\"_parent\"><img src=\"https://colab.research.google.com/assets/colab-badge.svg\" alt=\"Open In Colab\"/></a>"
      ]
    },
    {
      "cell_type": "code",
      "source": [
        "import pygame\n",
        "from sklearn import svm"
      ],
      "metadata": {
        "id": "Ru0NPdwlOxTV"
      },
      "execution_count": null,
      "outputs": []
    },
    {
      "cell_type": "code",
      "source": [
        "def draw():\n",
        "    model = svm.SVC(kernel='linear')\n",
        "    points = []\n",
        "    classes = []\n",
        "    pygame.init()\n",
        "    screen = pygame.display.set_mode([800, 600])\n",
        "    screen.fill(color='white')\n",
        "    pygame.display.update()\n",
        "    colors = ['red', 'blue', 'black', 'yellow']\n",
        "    play = True\n",
        "    learning_mode = True\n",
        "    while play:\n",
        "        for event in pygame.event.get():\n",
        "            if event.type == pygame.QUIT:\n",
        "                play = False\n",
        "            elif event.type == pygame.MOUSEBUTTONDOWN and event.button == 1:\n",
        "                if learning_mode:\n",
        "                    pygame.draw.circle(screen, color=colors[0], center=event.pos, radius=5)\n",
        "                    pygame.display.update()\n",
        "                    points.append(list(event.pos))\n",
        "                    classes.append(0)\n",
        "                else:\n",
        "                    # новая точка\n",
        "                    c = model.predict([event.pos])\n",
        "                    print(c)\n",
        "                    pygame.draw.circle(screen, color=colors[c[0]], center=event.pos, radius=5)\n",
        "                    pygame.display.update()\n",
        "            elif event.type == pygame.MOUSEBUTTONDOWN and event.button == 3:\n",
        "                if learning_mode:\n",
        "                    pygame.draw.circle(screen, color=colors[1], center=event.pos, radius=5)\n",
        "                    pygame.display.update()\n",
        "                    points.append(list(event.pos))\n",
        "                    classes.append(1)\n",
        "            elif event.type == pygame.KEYDOWN and event.key == pygame.K_RETURN:\n",
        "                learning_mode = False\n",
        "                model.fit(points, classes)\n",
        "                coef = model.coef_[0]\n",
        "                start_pos = [0, model.intercept_[0] / -coef[1]]\n",
        "                end_pos = [800, coef[0] / -coef[1] * 800 + model.intercept_[0] / -coef[1]]\n",
        "                pygame.draw.line(screen, color='black', start_pos=start_pos, end_pos=end_pos)\n",
        "                pygame.display.update()\n"
      ],
      "metadata": {
        "id": "-w00Mej7O06t"
      },
      "execution_count": null,
      "outputs": []
    },
    {
      "cell_type": "code",
      "source": [
        "if __name__ == '__main__':\n",
        "    draw()"
      ],
      "metadata": {
        "id": "NP0CRAxgPzz7"
      },
      "execution_count": null,
      "outputs": []
    }
  ]
}